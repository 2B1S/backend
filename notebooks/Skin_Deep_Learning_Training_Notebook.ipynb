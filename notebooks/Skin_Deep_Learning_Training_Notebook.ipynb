{
  "nbformat": 4,
  "nbformat_minor": 0,
  "metadata": {
    "colab": {
      "name": "Skin Deep Learning Training Notebook.ipynb",
      "version": "0.3.2",
      "provenance": [],
      "collapsed_sections": [],
      "toc_visible": true
    },
    "kernelspec": {
      "name": "python3",
      "display_name": "Python 3"
    },
    "accelerator": "GPU"
  },
  "cells": [
    {
      "metadata": {
        "id": "BzTEDHWAdPQE",
        "colab_type": "text"
      },
      "cell_type": "markdown",
      "source": [
        "## Skin Deep Learning Training Notebook"
      ]
    },
    {
      "metadata": {
        "id": "9msAoxVLdPQZ",
        "colab_type": "code",
        "outputId": "a29067de-cec7-4562-e6a9-cfd7328a5e0c",
        "colab": {
          "base_uri": "https://localhost:8080/",
          "height": 34
        }
      },
      "cell_type": "code",
      "source": [
        "\n",
        "import keras as K\n",
        "from keras.layers import Dense, Dropout, Flatten, Conv2D, MaxPool2D\n",
        "import tensorflow as TF\n",
        "import numpy as np\n",
        "import pandas as pd\n",
        "import matplotlib.pyplot as plt\n",
        "import imageio\n",
        "%matplotlib inline\n",
        "import os\n",
        "from glob import glob\n",
        "import seaborn as sns\n",
        "from PIL import Image\n",
        "from sklearn.preprocessing import label_binarize\n",
        "from sklearn.metrics import confusion_matrix\n",
        "import itertools\n",
        "\n",
        "from sklearn.model_selection import train_test_split\n"
      ],
      "execution_count": 0,
      "outputs": [
        {
          "output_type": "stream",
          "text": [
            "Using TensorFlow backend.\n"
          ],
          "name": "stderr"
        }
      ]
    },
    {
      "metadata": {
        "id": "NgXH-iM9dgjx",
        "colab_type": "code",
        "outputId": "ef95e175-b6a6-4166-c74f-89ff443bd7b2",
        "colab": {
          "base_uri": "https://localhost:8080/",
          "height": 122
        }
      },
      "cell_type": "code",
      "source": [
        "#Mounting Google Drive\n",
        "from google.colab import drive\n",
        "drive.mount('/content/gdrive')"
      ],
      "execution_count": 0,
      "outputs": [
        {
          "output_type": "stream",
          "text": [
            "Go to this URL in a browser: https://accounts.google.com/o/oauth2/auth?client_id=947318989803-6bn6qk8qdgf4n4g3pfee6491hc0brc4i.apps.googleusercontent.com&redirect_uri=urn%3Aietf%3Awg%3Aoauth%3A2.0%3Aoob&scope=email%20https%3A%2F%2Fwww.googleapis.com%2Fauth%2Fdocs.test%20https%3A%2F%2Fwww.googleapis.com%2Fauth%2Fdrive%20https%3A%2F%2Fwww.googleapis.com%2Fauth%2Fdrive.photos.readonly%20https%3A%2F%2Fwww.googleapis.com%2Fauth%2Fpeopleapi.readonly&response_type=code\n",
            "\n",
            "Enter your authorization code:\n",
            "··········\n",
            "Mounted at /content/gdrive\n"
          ],
          "name": "stdout"
        }
      ]
    },
    {
      "metadata": {
        "id": "gSoqjh9idPQm",
        "colab_type": "text"
      },
      "cell_type": "markdown",
      "source": [
        "### Loading and Preprocessing data"
      ]
    },
    {
      "metadata": {
        "id": "hcHVb6aldPQr",
        "colab_type": "code",
        "outputId": "a3a6fbdb-5590-4557-c871-39029c4e5595",
        "colab": {
          "base_uri": "https://localhost:8080/",
          "height": 204
        }
      },
      "cell_type": "code",
      "source": [
        "#Reading the metadata_csv to see what the current DataFrame looks like.\n",
        "\n",
        "metadata_path = 'gdrive/My Drive/Google Colab Data/Skin/HAM10000_metadata.csv'\n",
        "metadata = pd.read_csv(metadata_path)\n",
        "metadata.head(5)"
      ],
      "execution_count": 0,
      "outputs": [
        {
          "output_type": "execute_result",
          "data": {
            "text/html": [
              "<div>\n",
              "<style scoped>\n",
              "    .dataframe tbody tr th:only-of-type {\n",
              "        vertical-align: middle;\n",
              "    }\n",
              "\n",
              "    .dataframe tbody tr th {\n",
              "        vertical-align: top;\n",
              "    }\n",
              "\n",
              "    .dataframe thead th {\n",
              "        text-align: right;\n",
              "    }\n",
              "</style>\n",
              "<table border=\"1\" class=\"dataframe\">\n",
              "  <thead>\n",
              "    <tr style=\"text-align: right;\">\n",
              "      <th></th>\n",
              "      <th>lesion_id</th>\n",
              "      <th>image_id</th>\n",
              "      <th>dx</th>\n",
              "      <th>dx_type</th>\n",
              "      <th>age</th>\n",
              "      <th>sex</th>\n",
              "      <th>localization</th>\n",
              "    </tr>\n",
              "  </thead>\n",
              "  <tbody>\n",
              "    <tr>\n",
              "      <th>0</th>\n",
              "      <td>HAM_0000118</td>\n",
              "      <td>ISIC_0027419</td>\n",
              "      <td>bkl</td>\n",
              "      <td>histo</td>\n",
              "      <td>80.0</td>\n",
              "      <td>male</td>\n",
              "      <td>scalp</td>\n",
              "    </tr>\n",
              "    <tr>\n",
              "      <th>1</th>\n",
              "      <td>HAM_0000118</td>\n",
              "      <td>ISIC_0025030</td>\n",
              "      <td>bkl</td>\n",
              "      <td>histo</td>\n",
              "      <td>80.0</td>\n",
              "      <td>male</td>\n",
              "      <td>scalp</td>\n",
              "    </tr>\n",
              "    <tr>\n",
              "      <th>2</th>\n",
              "      <td>HAM_0002730</td>\n",
              "      <td>ISIC_0026769</td>\n",
              "      <td>bkl</td>\n",
              "      <td>histo</td>\n",
              "      <td>80.0</td>\n",
              "      <td>male</td>\n",
              "      <td>scalp</td>\n",
              "    </tr>\n",
              "    <tr>\n",
              "      <th>3</th>\n",
              "      <td>HAM_0002730</td>\n",
              "      <td>ISIC_0025661</td>\n",
              "      <td>bkl</td>\n",
              "      <td>histo</td>\n",
              "      <td>80.0</td>\n",
              "      <td>male</td>\n",
              "      <td>scalp</td>\n",
              "    </tr>\n",
              "    <tr>\n",
              "      <th>4</th>\n",
              "      <td>HAM_0001466</td>\n",
              "      <td>ISIC_0031633</td>\n",
              "      <td>bkl</td>\n",
              "      <td>histo</td>\n",
              "      <td>75.0</td>\n",
              "      <td>male</td>\n",
              "      <td>ear</td>\n",
              "    </tr>\n",
              "  </tbody>\n",
              "</table>\n",
              "</div>"
            ],
            "text/plain": [
              "     lesion_id      image_id   dx dx_type   age   sex localization\n",
              "0  HAM_0000118  ISIC_0027419  bkl   histo  80.0  male        scalp\n",
              "1  HAM_0000118  ISIC_0025030  bkl   histo  80.0  male        scalp\n",
              "2  HAM_0002730  ISIC_0026769  bkl   histo  80.0  male        scalp\n",
              "3  HAM_0002730  ISIC_0025661  bkl   histo  80.0  male        scalp\n",
              "4  HAM_0001466  ISIC_0031633  bkl   histo  75.0  male          ear"
            ]
          },
          "metadata": {
            "tags": []
          },
          "execution_count": 3
        }
      ]
    },
    {
      "metadata": {
        "id": "SdZMAy3YdPQ9",
        "colab_type": "code",
        "colab": {}
      },
      "cell_type": "code",
      "source": [
        "# This dictionary is useful for displaying more human-friendly labels later on\n",
        "\n",
        "lesion_type_dict = {\n",
        "    'nv': 'Melanocytic nevi',\n",
        "    'mel': 'Melanoma',\n",
        "    'bkl': 'Benign keratosis-like lesions ',\n",
        "    'bcc': 'Basal cell carcinoma',\n",
        "    'akiec': 'Actinic keratoses',\n",
        "    'vasc': 'Vascular lesions',\n",
        "    'df': 'Dermatofibroma'\n",
        "}"
      ],
      "execution_count": 0,
      "outputs": []
    },
    {
      "metadata": {
        "scrolled": false,
        "id": "arf_RrH2dPRM",
        "colab_type": "code",
        "outputId": "dc7462cd-05db-433f-cb5c-791dc533fbc7",
        "colab": {
          "base_uri": "https://localhost:8080/",
          "height": 34
        }
      },
      "cell_type": "code",
      "source": [
        "#Creating New Columns for better readability\n",
        "\n",
        "newpath = 'gdrive/My Drive/Google Colab Data/Skin/HAM10000_images_part_1/'\n",
        "metadata['path'] = metadata['image_id'].map(lambda x: newpath+x+\".jpg\")\n",
        "print(list(metadata['path'])[6])\n",
        "\n",
        "#Writes cell_type & cell_type_index features to the csv\n",
        "\n",
        "metadata['cell_type'] = metadata['dx'].map(lesion_type_dict.get) \n",
        "metadata['cell_type_idx'] = pd.Categorical(metadata['cell_type']).codes\n",
        "# metadata.head(5)"
      ],
      "execution_count": 0,
      "outputs": [
        {
          "output_type": "stream",
          "text": [
            "gdrive/My Drive/Google Colab Data/Skin/HAM10000_images_part_1/ISIC_0029176.jpg\n"
          ],
          "name": "stdout"
        }
      ]
    },
    {
      "metadata": {
        "id": "JK5ryXjZdPRd",
        "colab_type": "code",
        "outputId": "ba37742a-da0a-417d-b748-57014b042887",
        "colab": {
          "base_uri": "https://localhost:8080/",
          "height": 555
        }
      },
      "cell_type": "code",
      "source": [
        "#Resizing images to a 100x75x3 matrix and storing them as a new feature \n",
        "#for the DF\n",
        "\n",
        "metadata['image'] = metadata['path'].map(lambda x: np.asarray(Image\\\n",
        ".open(x).resize((100,75))))\n",
        "# metadata.head(5)"
      ],
      "execution_count": 0,
      "outputs": [
        {
          "output_type": "error",
          "ename": "KeyboardInterrupt",
          "evalue": "ignored",
          "traceback": [
            "\u001b[0;31m---------------------------------------------------------------------------\u001b[0m",
            "\u001b[0;31mKeyboardInterrupt\u001b[0m                         Traceback (most recent call last)",
            "\u001b[0;32m<ipython-input-16-d013d2dd827e>\u001b[0m in \u001b[0;36m<module>\u001b[0;34m()\u001b[0m\n\u001b[1;32m      1\u001b[0m \u001b[0;34m\u001b[0m\u001b[0m\n\u001b[0;32m----> 2\u001b[0;31m \u001b[0mmetadata\u001b[0m\u001b[0;34m[\u001b[0m\u001b[0;34m'image'\u001b[0m\u001b[0;34m]\u001b[0m \u001b[0;34m=\u001b[0m \u001b[0mmetadata\u001b[0m\u001b[0;34m[\u001b[0m\u001b[0;34m'path'\u001b[0m\u001b[0;34m]\u001b[0m\u001b[0;34m.\u001b[0m\u001b[0mmap\u001b[0m\u001b[0;34m(\u001b[0m\u001b[0;32mlambda\u001b[0m \u001b[0mx\u001b[0m\u001b[0;34m:\u001b[0m \u001b[0mnp\u001b[0m\u001b[0;34m.\u001b[0m\u001b[0masarray\u001b[0m\u001b[0;34m(\u001b[0m\u001b[0mImage\u001b[0m\u001b[0;34m.\u001b[0m\u001b[0mopen\u001b[0m\u001b[0;34m(\u001b[0m\u001b[0mx\u001b[0m\u001b[0;34m)\u001b[0m\u001b[0;34m.\u001b[0m\u001b[0mresize\u001b[0m\u001b[0;34m(\u001b[0m\u001b[0;34m(\u001b[0m\u001b[0;36m100\u001b[0m\u001b[0;34m,\u001b[0m\u001b[0;36m75\u001b[0m\u001b[0;34m)\u001b[0m\u001b[0;34m)\u001b[0m\u001b[0;34m)\u001b[0m\u001b[0;34m)\u001b[0m\u001b[0;34m\u001b[0m\u001b[0;34m\u001b[0m\u001b[0m\n\u001b[0m\u001b[1;32m      3\u001b[0m \u001b[0;31m# metadata.head(5)\u001b[0m\u001b[0;34m\u001b[0m\u001b[0;34m\u001b[0m\u001b[0;34m\u001b[0m\u001b[0m\n",
            "\u001b[0;32m/usr/local/lib/python3.6/dist-packages/pandas/core/series.py\u001b[0m in \u001b[0;36mmap\u001b[0;34m(self, arg, na_action)\u001b[0m\n\u001b[1;32m   2352\u001b[0m         \u001b[0;32melse\u001b[0m\u001b[0;34m:\u001b[0m\u001b[0;34m\u001b[0m\u001b[0;34m\u001b[0m\u001b[0m\n\u001b[1;32m   2353\u001b[0m             \u001b[0;31m# arg is a function\u001b[0m\u001b[0;34m\u001b[0m\u001b[0;34m\u001b[0m\u001b[0;34m\u001b[0m\u001b[0m\n\u001b[0;32m-> 2354\u001b[0;31m             \u001b[0mnew_values\u001b[0m \u001b[0;34m=\u001b[0m \u001b[0mmap_f\u001b[0m\u001b[0;34m(\u001b[0m\u001b[0mvalues\u001b[0m\u001b[0;34m,\u001b[0m \u001b[0marg\u001b[0m\u001b[0;34m)\u001b[0m\u001b[0;34m\u001b[0m\u001b[0;34m\u001b[0m\u001b[0m\n\u001b[0m\u001b[1;32m   2355\u001b[0m \u001b[0;34m\u001b[0m\u001b[0m\n\u001b[1;32m   2356\u001b[0m         return self._constructor(new_values,\n",
            "\u001b[0;32mpandas/_libs/src/inference.pyx\u001b[0m in \u001b[0;36mpandas._libs.lib.map_infer\u001b[0;34m()\u001b[0m\n",
            "\u001b[0;32m<ipython-input-16-d013d2dd827e>\u001b[0m in \u001b[0;36m<lambda>\u001b[0;34m(x)\u001b[0m\n\u001b[1;32m      1\u001b[0m \u001b[0;34m\u001b[0m\u001b[0m\n\u001b[0;32m----> 2\u001b[0;31m \u001b[0mmetadata\u001b[0m\u001b[0;34m[\u001b[0m\u001b[0;34m'image'\u001b[0m\u001b[0;34m]\u001b[0m \u001b[0;34m=\u001b[0m \u001b[0mmetadata\u001b[0m\u001b[0;34m[\u001b[0m\u001b[0;34m'path'\u001b[0m\u001b[0;34m]\u001b[0m\u001b[0;34m.\u001b[0m\u001b[0mmap\u001b[0m\u001b[0;34m(\u001b[0m\u001b[0;32mlambda\u001b[0m \u001b[0mx\u001b[0m\u001b[0;34m:\u001b[0m \u001b[0mnp\u001b[0m\u001b[0;34m.\u001b[0m\u001b[0masarray\u001b[0m\u001b[0;34m(\u001b[0m\u001b[0mImage\u001b[0m\u001b[0;34m.\u001b[0m\u001b[0mopen\u001b[0m\u001b[0;34m(\u001b[0m\u001b[0mx\u001b[0m\u001b[0;34m)\u001b[0m\u001b[0;34m.\u001b[0m\u001b[0mresize\u001b[0m\u001b[0;34m(\u001b[0m\u001b[0;34m(\u001b[0m\u001b[0;36m100\u001b[0m\u001b[0;34m,\u001b[0m\u001b[0;36m75\u001b[0m\u001b[0;34m)\u001b[0m\u001b[0;34m)\u001b[0m\u001b[0;34m)\u001b[0m\u001b[0;34m)\u001b[0m\u001b[0;34m\u001b[0m\u001b[0;34m\u001b[0m\u001b[0m\n\u001b[0m\u001b[1;32m      3\u001b[0m \u001b[0;31m# metadata.head(5)\u001b[0m\u001b[0;34m\u001b[0m\u001b[0;34m\u001b[0m\u001b[0;34m\u001b[0m\u001b[0m\n",
            "\u001b[0;32m/usr/local/lib/python3.6/dist-packages/PIL/Image.py\u001b[0m in \u001b[0;36mopen\u001b[0;34m(fp, mode)\u001b[0m\n\u001b[1;32m   2317\u001b[0m         \u001b[0mfp\u001b[0m \u001b[0;34m=\u001b[0m \u001b[0mio\u001b[0m\u001b[0;34m.\u001b[0m\u001b[0mBytesIO\u001b[0m\u001b[0;34m(\u001b[0m\u001b[0mfp\u001b[0m\u001b[0;34m.\u001b[0m\u001b[0mread\u001b[0m\u001b[0;34m(\u001b[0m\u001b[0;34m)\u001b[0m\u001b[0;34m)\u001b[0m\u001b[0;34m\u001b[0m\u001b[0;34m\u001b[0m\u001b[0m\n\u001b[1;32m   2318\u001b[0m \u001b[0;34m\u001b[0m\u001b[0m\n\u001b[0;32m-> 2319\u001b[0;31m     \u001b[0mprefix\u001b[0m \u001b[0;34m=\u001b[0m \u001b[0mfp\u001b[0m\u001b[0;34m.\u001b[0m\u001b[0mread\u001b[0m\u001b[0;34m(\u001b[0m\u001b[0;36m16\u001b[0m\u001b[0;34m)\u001b[0m\u001b[0;34m\u001b[0m\u001b[0;34m\u001b[0m\u001b[0m\n\u001b[0m\u001b[1;32m   2320\u001b[0m \u001b[0;34m\u001b[0m\u001b[0m\n\u001b[1;32m   2321\u001b[0m     \u001b[0mpreinit\u001b[0m\u001b[0;34m(\u001b[0m\u001b[0;34m)\u001b[0m\u001b[0;34m\u001b[0m\u001b[0;34m\u001b[0m\u001b[0m\n",
            "\u001b[0;31mKeyboardInterrupt\u001b[0m: "
          ]
        }
      ]
    },
    {
      "metadata": {
        "id": "xttEhfNJdPRn",
        "colab_type": "code",
        "colab": {}
      },
      "cell_type": "code",
      "source": [
        "#Plotting one image to confirm that the previous step was successful\n",
        "plt.figure()\n",
        "plt.imshow(metadata['image'][4])"
      ],
      "execution_count": 0,
      "outputs": []
    },
    {
      "metadata": {
        "id": "C0CaNlnIdPR1",
        "colab_type": "text"
      },
      "cell_type": "markdown",
      "source": [
        "### Cleaning and Preparing Data for Training"
      ]
    },
    {
      "metadata": {
        "id": "0i4_CenndPR4",
        "colab_type": "code",
        "colab": {}
      },
      "cell_type": "code",
      "source": [
        "X = metadata['image'].values\n",
        "y = metadata['cell_type_idx'].values"
      ],
      "execution_count": 0,
      "outputs": []
    },
    {
      "metadata": {
        "id": "Dsqw69w0dPSN",
        "colab_type": "code",
        "outputId": "58e714ae-a877-4ddb-ba24-4df97af0ecca",
        "colab": {
          "base_uri": "https://localhost:8080/",
          "height": 34
        }
      },
      "cell_type": "code",
      "source": [
        "\"\"\"nx, ny represent the image resolution of the training dataset.\n",
        "When we use this model for prediction later, \n",
        "These values will be used to resize any images uploaded\"\"\" \n",
        "nx = X[1].shape[1]\n",
        "ny = X[1].shape[0]\n",
        "\n",
        "#nc by convention; Referencing the number of channels used.\n",
        "nc = X[1].shape[2]\n",
        "m = X.shape[0]\n",
        "\n",
        "#reshape X to a nicer shape and print dimentions\n",
        "X = np.concatenate(X).reshape(m,ny,nx,nc)\n",
        "X.shape"
      ],
      "execution_count": 0,
      "outputs": [
        {
          "output_type": "execute_result",
          "data": {
            "text/plain": [
              "(10015, 75, 100, 3)"
            ]
          },
          "metadata": {
            "tags": []
          },
          "execution_count": 28
        }
      ]
    },
    {
      "metadata": {
        "id": "Y1pmRco-dPSX",
        "colab_type": "code",
        "colab": {}
      },
      "cell_type": "code",
      "source": [
        "#np.save('temp.npy', [X, y, m, ny, nx, nc])"
      ],
      "execution_count": 0,
      "outputs": []
    },
    {
      "metadata": {
        "id": "jMDZlpibkV19",
        "colab_type": "code",
        "colab": {}
      },
      "cell_type": "code",
      "source": [
        " X, y, m, ny, nx, nc = np.load('gdrive/My Drive/Google Colab Data/Skin/temp.npy')"
      ],
      "execution_count": 0,
      "outputs": []
    },
    {
      "metadata": {
        "id": "qMLchXpJdPUV",
        "colab_type": "text"
      },
      "cell_type": "markdown",
      "source": [
        "#### Randomizing and Normalizing DataFrame"
      ]
    },
    {
      "metadata": {
        "id": "RW_Vfde6dPUX",
        "colab_type": "code",
        "colab": {}
      },
      "cell_type": "code",
      "source": [
        "#Randomizing and splitting the data set\n",
        "train_X, test_X, train_y, test_y = train_test_split(X, y, \\\n",
        "test_size=0.20, random_state=3)\n",
        "#Converting test and train y to one hot encode format\n",
        "test_y = K.utils.to_categorical(test_y.transpose())\n",
        "train_y = K.utils.to_categorical(train_y.transpose())\n"
      ],
      "execution_count": 0,
      "outputs": []
    },
    {
      "metadata": {
        "id": "Y-POgBcfdPUc",
        "colab_type": "code",
        "colab": {}
      },
      "cell_type": "code",
      "source": [
        "#Calculating train_X mean and standard deviation for normalization\n",
        "train_X_mean = np.mean(train_X, axis=0)\n",
        "train_X_std = np.std(train_X, axis=0)\n",
        "\n",
        "#Normalization\n",
        "\n",
        "train_X = ((train_X - train_X_mean)/train_X_std)\n",
        "test_X = ((test_X - train_X_mean)/train_X_std)\n",
        "#No variable generation for test set to prevent data leakage"
      ],
      "execution_count": 0,
      "outputs": []
    },
    {
      "metadata": {
        "id": "G8md7YmxdPUj",
        "colab_type": "code",
        "outputId": "c824b508-0be4-488b-913a-040e7d90beda",
        "colab": {
          "base_uri": "https://localhost:8080/",
          "height": 2033
        }
      },
      "cell_type": "code",
      "source": [
        "# Checking normalization\n",
        "plt.figure()\n",
        "plt.hist(train_X[5,:,:,1])"
      ],
      "execution_count": 0,
      "outputs": [
        {
          "output_type": "execute_result",
          "data": {
            "text/plain": [
              "([array([ 0.,  2., 20., 19., 11., 23.,  0.,  0.,  0.,  0.]),\n",
              "  array([ 0.,  2., 19., 16., 10., 25.,  3.,  0.,  0.,  0.]),\n",
              "  array([ 0.,  3., 16., 11., 12., 21., 12.,  0.,  0.,  0.]),\n",
              "  array([ 0.,  3., 20.,  6.,  8., 19., 19.,  0.,  0.,  0.]),\n",
              "  array([ 0.,  3., 15.,  7., 10., 17., 23.,  0.,  0.,  0.]),\n",
              "  array([ 0.,  3., 11.,  6.,  8., 16., 31.,  0.,  0.,  0.]),\n",
              "  array([ 1.,  2., 10.,  6.,  9., 17., 30.,  0.,  0.,  0.]),\n",
              "  array([ 1.,  3.,  6.,  6., 12., 20., 27.,  0.,  0.,  0.]),\n",
              "  array([ 0.,  2.,  5.,  5., 14., 17., 32.,  0.,  0.,  0.]),\n",
              "  array([ 0.,  2.,  3.,  6., 11., 21., 28.,  4.,  0.,  0.]),\n",
              "  array([ 1.,  1.,  2.,  8.,  6., 19., 28., 10.,  0.,  0.]),\n",
              "  array([ 0.,  1.,  1.,  6.,  7., 20., 29., 11.,  0.,  0.]),\n",
              "  array([ 0.,  0.,  2.,  2.,  9., 16., 35., 11.,  0.,  0.]),\n",
              "  array([ 0.,  1.,  0.,  2.,  6., 19., 37., 10.,  0.,  0.]),\n",
              "  array([ 0.,  0.,  0.,  1.,  7., 14., 38., 15.,  0.,  0.]),\n",
              "  array([ 1.,  1.,  0.,  1.,  8.,  9., 37., 18.,  0.,  0.]),\n",
              "  array([ 0.,  0.,  1.,  0.,  8., 14., 33., 19.,  0.,  0.]),\n",
              "  array([ 0.,  0.,  0.,  0.,  8., 17., 33., 17.,  0.,  0.]),\n",
              "  array([ 1.,  0.,  0.,  0.,  5., 16., 38., 15.,  0.,  0.]),\n",
              "  array([ 0.,  1.,  0.,  0.,  5., 20., 43.,  6.,  0.,  0.]),\n",
              "  array([ 0.,  0.,  0.,  0.,  5., 27., 39.,  4.,  0.,  0.]),\n",
              "  array([ 1.,  0.,  0.,  0.,  3., 31., 34.,  6.,  0.,  0.]),\n",
              "  array([ 0.,  0.,  0.,  0.,  2., 32., 35.,  6.,  0.,  0.]),\n",
              "  array([ 0.,  0.,  0.,  0.,  2., 33., 29., 11.,  0.,  0.]),\n",
              "  array([ 0.,  0.,  0.,  0.,  2., 29., 23., 21.,  0.,  0.]),\n",
              "  array([ 0.,  0.,  0.,  0.,  3., 21., 34., 17.,  0.,  0.]),\n",
              "  array([ 0.,  0.,  0.,  0.,  4., 16., 35., 20.,  0.,  0.]),\n",
              "  array([ 0.,  0.,  0.,  0.,  2., 13., 40., 20.,  0.,  0.]),\n",
              "  array([ 0.,  0.,  0.,  2.,  2., 11., 37., 21.,  2.,  0.]),\n",
              "  array([ 0.,  0.,  0.,  1.,  3., 11., 32., 26.,  2.,  0.]),\n",
              "  array([ 0.,  0.,  0.,  1.,  4., 12., 27., 23.,  8.,  0.]),\n",
              "  array([ 0.,  0.,  0.,  2.,  1., 12., 22., 25., 13.,  0.]),\n",
              "  array([ 0.,  0.,  0.,  3.,  1.,  7., 24., 23., 17.,  0.]),\n",
              "  array([ 0.,  0.,  0.,  0.,  4.,  8., 18., 27., 18.,  0.]),\n",
              "  array([ 0.,  0.,  0.,  0.,  2., 10., 10., 36., 17.,  0.]),\n",
              "  array([ 0.,  1.,  0.,  0.,  2.,  9., 12., 33., 18.,  0.]),\n",
              "  array([ 0.,  0.,  0.,  0.,  1., 13., 11., 31., 19.,  0.]),\n",
              "  array([ 0.,  0.,  0.,  0.,  4., 12.,  8., 29., 22.,  0.]),\n",
              "  array([ 0.,  0.,  0.,  1.,  2., 11.,  9., 32., 20.,  0.]),\n",
              "  array([ 0.,  0.,  0.,  0.,  5., 11.,  9., 29., 19.,  2.]),\n",
              "  array([ 0.,  0.,  0.,  0.,  3.,  8., 14., 32., 17.,  1.]),\n",
              "  array([ 0.,  0.,  0.,  0.,  1.,  6., 17., 32., 18.,  1.]),\n",
              "  array([ 0.,  0.,  0.,  0.,  0.,  7., 16., 28., 23.,  1.]),\n",
              "  array([ 0.,  0.,  0.,  0.,  1.,  7., 20., 26., 12.,  9.]),\n",
              "  array([ 0.,  0.,  0.,  0.,  0.,  9., 22., 24., 10., 10.]),\n",
              "  array([ 0.,  0.,  0.,  0.,  0., 13., 20., 19., 11., 12.]),\n",
              "  array([ 0.,  0.,  0.,  0.,  0., 16., 27., 14.,  8., 10.]),\n",
              "  array([ 0.,  0.,  0.,  0.,  0., 18., 29., 10.,  7., 11.]),\n",
              "  array([ 0.,  0.,  0.,  0.,  1., 15., 31., 11.,  4., 13.]),\n",
              "  array([ 0.,  0.,  0.,  0.,  0., 17., 25., 16.,  6., 11.]),\n",
              "  array([ 0.,  0.,  0.,  0.,  2., 13., 23., 21.,  6., 10.]),\n",
              "  array([ 0.,  0.,  0.,  0.,  1., 13., 24., 19., 12.,  6.]),\n",
              "  array([ 0.,  0.,  0.,  0.,  0., 14., 30., 15., 12.,  4.]),\n",
              "  array([ 0.,  0.,  0.,  0.,  0., 12., 28., 21., 14.,  0.]),\n",
              "  array([ 0.,  0.,  0.,  0.,  2., 14., 23., 27.,  9.,  0.]),\n",
              "  array([ 0.,  0.,  0.,  0.,  1., 14., 27., 22., 11.,  0.]),\n",
              "  array([ 0.,  0.,  0.,  0.,  3., 13., 31., 21.,  7.,  0.]),\n",
              "  array([ 0.,  0.,  0.,  0.,  2., 13., 34., 25.,  1.,  0.]),\n",
              "  array([ 0.,  0.,  0.,  0.,  1., 15., 44., 14.,  1.,  0.]),\n",
              "  array([ 0.,  0.,  0.,  0.,  1., 15., 42., 17.,  0.,  0.]),\n",
              "  array([ 0.,  0.,  0.,  0.,  2., 15., 47., 11.,  0.,  0.]),\n",
              "  array([ 0.,  0.,  0.,  0.,  1., 15., 49., 10.,  0.,  0.]),\n",
              "  array([ 0.,  0.,  0.,  0.,  1., 17., 44., 13.,  0.,  0.]),\n",
              "  array([ 0.,  0.,  0.,  1.,  2., 21., 34., 17.,  0.,  0.]),\n",
              "  array([ 0.,  0.,  0.,  0.,  5., 12., 46., 12.,  0.,  0.]),\n",
              "  array([ 0.,  0.,  0.,  0.,  2., 11., 47., 15.,  0.,  0.]),\n",
              "  array([ 0.,  0.,  0.,  0.,  0., 17., 37., 21.,  0.,  0.]),\n",
              "  array([ 0.,  0.,  0.,  0.,  3., 15., 38., 19.,  0.,  0.]),\n",
              "  array([ 0.,  0.,  0.,  1.,  7., 16., 36., 15.,  0.,  0.]),\n",
              "  array([ 0.,  0.,  0.,  1.,  1., 24., 30., 19.,  0.,  0.]),\n",
              "  array([ 0.,  0.,  0.,  0.,  3., 31., 24., 17.,  0.,  0.]),\n",
              "  array([ 0.,  0.,  0.,  0.,  7., 35., 20., 13.,  0.,  0.]),\n",
              "  array([ 0.,  0.,  0.,  1.,  5., 34., 15., 20.,  0.,  0.]),\n",
              "  array([ 0.,  0.,  0.,  0.,  9., 32., 12., 22.,  0.,  0.]),\n",
              "  array([ 0.,  0.,  0.,  0.,  8., 30., 19., 18.,  0.,  0.]),\n",
              "  array([ 0.,  0.,  0.,  0.,  8., 36., 11., 20.,  0.,  0.]),\n",
              "  array([ 0.,  0.,  0.,  0.,  7., 33., 20., 15.,  0.,  0.]),\n",
              "  array([ 0.,  0.,  0.,  1.,  6., 34., 24., 10.,  0.,  0.]),\n",
              "  array([ 0.,  0.,  0.,  1.,  3., 35., 25., 11.,  0.,  0.]),\n",
              "  array([ 0.,  0.,  0.,  2.,  4., 23., 36., 10.,  0.,  0.]),\n",
              "  array([ 0.,  0.,  1.,  1.,  4., 14., 45., 10.,  0.,  0.]),\n",
              "  array([ 0.,  0.,  1.,  2.,  3., 20., 38., 11.,  0.,  0.]),\n",
              "  array([ 0.,  1.,  2.,  2.,  3., 13., 51.,  3.,  0.,  0.]),\n",
              "  array([ 0.,  2.,  2.,  2.,  4., 17., 45.,  3.,  0.,  0.]),\n",
              "  array([ 0.,  3.,  2.,  2.,  7., 15., 42.,  4.,  0.,  0.]),\n",
              "  array([ 0.,  4.,  4.,  2., 13., 19., 32.,  1.,  0.,  0.]),\n",
              "  array([ 0.,  6.,  5.,  6.,  7., 25., 26.,  0.,  0.,  0.]),\n",
              "  array([ 0.,  7.,  4.,  5.,  7., 29., 23.,  0.,  0.,  0.]),\n",
              "  array([ 0.,  9.,  5.,  4.,  7., 31., 19.,  0.,  0.,  0.]),\n",
              "  array([ 0., 10.,  7.,  2.,  8., 31., 17.,  0.,  0.,  0.]),\n",
              "  array([ 0., 12.,  7.,  4., 11., 29., 12.,  0.,  0.,  0.]),\n",
              "  array([ 0., 15.,  7.,  6.,  9., 26., 12.,  0.,  0.,  0.]),\n",
              "  array([ 0., 14., 12.,  7.,  8., 22., 12.,  0.,  0.,  0.]),\n",
              "  array([ 0., 16., 13.,  8., 12., 22.,  4.,  0.,  0.,  0.]),\n",
              "  array([ 0., 18., 16.,  9., 14., 18.,  0.,  0.,  0.,  0.]),\n",
              "  array([ 0., 18., 21., 13., 14.,  9.,  0.,  0.,  0.,  0.]),\n",
              "  array([ 0., 24., 22., 22.,  7.,  0.,  0.,  0.,  0.,  0.]),\n",
              "  array([ 0., 27., 32., 16.,  0.,  0.,  0.,  0.,  0.,  0.]),\n",
              "  array([ 0., 33., 35.,  7.,  0.,  0.,  0.,  0.,  0.,  0.]),\n",
              "  array([ 0., 47., 18., 10.,  0.,  0.,  0.,  0.,  0.,  0.])],\n",
              " array([-5.159095  , -4.34093391, -3.52277282, -2.70461174, -1.88645065,\n",
              "        -1.06828956, -0.25012848,  0.56803261,  1.3861937 ,  2.20435478,\n",
              "         3.02251587]),\n",
              " <a list of 100 Lists of Patches objects>)"
            ]
          },
          "metadata": {
            "tags": []
          },
          "execution_count": 7
        },
        {
          "output_type": "display_data",
          "data": {
            "image/png": "[encoded data removed]",
            "text/plain": [
              "<matplotlib.figure.Figure at 0x7f61d0bcf7b8>"
            ]
          },
          "metadata": {
            "tags": []
          }
        }
      ]
    },
    {
      "metadata": {
        "id": "aLXpAR3tdPU2",
        "colab_type": "text"
      },
      "cell_type": "markdown",
      "source": [
        "### Model Building"
      ]
    },
    {
      "metadata": {
        "id": "mlG7uTGHSSt2",
        "colab_type": "text"
      },
      "cell_type": "markdown",
      "source": [
        "Created model using sequential feed. Model utilies a pair of convolutional layers with 32 filters each followed by a\n",
        "max pooling layer. We use dropout for regularization to avoid overfitting the model.\n",
        "\n",
        "We repeat the above step with more granular convolutional filters. We again use dropout with a more aggressive\n",
        "dropout rate to avoid overfitting the model.\n",
        "\n",
        "We add a dense layer using the rectified linear unit as the activation function. Regularization is applied again to \n",
        "limit overfitting.\n",
        "\n",
        "Softmax activation layer is used to predict the 7 disease categories identified by our dataset."
      ]
    },
    {
      "metadata": {
        "id": "xghYnSPLdPU8",
        "colab_type": "code",
        "outputId": "87834957-b0a6-45da-885d-0eb695665ff6",
        "colab": {
          "base_uri": "https://localhost:8080/",
          "height": 544
        }
      },
      "cell_type": "code",
      "source": [
        "# Setting CNN Skin model\n",
        "\n",
        "input_shape = (75, 100, 3)\n",
        "class_num = 7\n",
        "\n",
        "model = K.models.Sequential()\n",
        "model.add(Conv2D(32, kernel_size=(3, 3),activation='relu',padding = 'Same',input_shape=input_shape))\n",
        "model.add(Conv2D(32,kernel_size=(3, 3), activation='relu',padding = 'Same',))\n",
        "model.add(MaxPool2D(pool_size = (2, 2)))\n",
        "model.add(Dropout(0.25))\n",
        "\n",
        "model.add(Conv2D(64, (3, 3), activation='relu',padding = 'Same'))\n",
        "model.add(Conv2D(64, (3, 3), activation='relu',padding = 'Same'))\n",
        "model.add(MaxPool2D(pool_size=(2, 2)))\n",
        "model.add(Dropout(0.40))\n",
        "\n",
        "model.add(Flatten())\n",
        "model.add(Dense(128, activation='relu'))\n",
        "model.add(Dropout(0.5))\n",
        "model.add(Dense(class_num, activation='softmax'))\n",
        "model.summary()"
      ],
      "execution_count": 0,
      "outputs": [
        {
          "output_type": "stream",
          "text": [
            "_________________________________________________________________\n",
            "Layer (type)                 Output Shape              Param #   \n",
            "=================================================================\n",
            "conv2d_5 (Conv2D)            (None, 75, 100, 32)       896       \n",
            "_________________________________________________________________\n",
            "conv2d_6 (Conv2D)            (None, 75, 100, 32)       9248      \n",
            "_________________________________________________________________\n",
            "max_pooling2d_3 (MaxPooling2 (None, 37, 50, 32)        0         \n",
            "_________________________________________________________________\n",
            "dropout_4 (Dropout)          (None, 37, 50, 32)        0         \n",
            "_________________________________________________________________\n",
            "conv2d_7 (Conv2D)            (None, 37, 50, 64)        18496     \n",
            "_________________________________________________________________\n",
            "conv2d_8 (Conv2D)            (None, 37, 50, 64)        36928     \n",
            "_________________________________________________________________\n",
            "max_pooling2d_4 (MaxPooling2 (None, 18, 25, 64)        0         \n",
            "_________________________________________________________________\n",
            "dropout_5 (Dropout)          (None, 18, 25, 64)        0         \n",
            "_________________________________________________________________\n",
            "flatten_2 (Flatten)          (None, 28800)             0         \n",
            "_________________________________________________________________\n",
            "dense_3 (Dense)              (None, 128)               3686528   \n",
            "_________________________________________________________________\n",
            "dropout_6 (Dropout)          (None, 128)               0         \n",
            "_________________________________________________________________\n",
            "dense_4 (Dense)              (None, 7)                 903       \n",
            "=================================================================\n",
            "Total params: 3,752,999\n",
            "Trainable params: 3,752,999\n",
            "Non-trainable params: 0\n",
            "_________________________________________________________________\n"
          ],
          "name": "stdout"
        }
      ]
    },
    {
      "metadata": {
        "id": "opgo0bKBdPVG",
        "colab_type": "code",
        "colab": {}
      },
      "cell_type": "code",
      "source": [
        "# Define optimizer (Adam optimizer)\n",
        "optimizer = K.optimizers.Adam(lr=0.001, beta_1=0.9, beta_2=0.999,\\\n",
        "                              epsilon=None, decay=0.0, amsgrad=False)"
      ],
      "execution_count": 0,
      "outputs": []
    },
    {
      "metadata": {
        "id": "AHDBUEUGdPVP",
        "colab_type": "code",
        "colab": {}
      },
      "cell_type": "code",
      "source": [
        "# Compile the model, categorical crossentropy loss and accuracy metric\n",
        "model.compile(optimizer = optimizer, loss = \"categorical_crossentropy\", \\\n",
        "             metrics = ['accuracy'])"
      ],
      "execution_count": 0,
      "outputs": []
    },
    {
      "metadata": {
        "id": "k5917RgXoT64",
        "colab_type": "code",
        "outputId": "87d82322-9074-470f-be7b-fb2e1d50e83d",
        "colab": {
          "base_uri": "https://localhost:8080/",
          "height": 745
        }
      },
      "cell_type": "code",
      "source": [
        "history = model.fit(train_X, train_y_fixed[0], batch_size = 64, epochs = 50)\n",
        "plt.figure()\n",
        "plt.plot(history.history['loss'])"
      ],
      "execution_count": 0,
      "outputs": [
        {
          "output_type": "stream",
          "text": [
            "Epoch 1/50\n",
            "1792/8012 [=====>........................] - ETA: 8s - loss: 0.1364 - acc: 0.9453"
          ],
          "name": "stdout"
        },
        {
          "output_type": "error",
          "ename": "KeyboardInterrupt",
          "evalue": "ignored",
          "traceback": [
            "\u001b[0;31m---------------------------------------------------------------------------\u001b[0m",
            "\u001b[0;31mKeyboardInterrupt\u001b[0m                         Traceback (most recent call last)",
            "\u001b[0;32m<ipython-input-60-760db81c54f4>\u001b[0m in \u001b[0;36m<module>\u001b[0;34m()\u001b[0m\n\u001b[1;32m      1\u001b[0m \u001b[0mtrain_y_fixed\u001b[0m \u001b[0;34m=\u001b[0m \u001b[0mK\u001b[0m\u001b[0;34m.\u001b[0m\u001b[0mutils\u001b[0m\u001b[0;34m.\u001b[0m\u001b[0mto_categorical\u001b[0m\u001b[0;34m(\u001b[0m\u001b[0mtrain_y_small\u001b[0m\u001b[0;34m.\u001b[0m\u001b[0mtranspose\u001b[0m\u001b[0;34m(\u001b[0m\u001b[0;34m)\u001b[0m\u001b[0;34m)\u001b[0m\u001b[0;34m\u001b[0m\u001b[0;34m\u001b[0m\u001b[0m\n\u001b[0;32m----> 2\u001b[0;31m \u001b[0mhistory\u001b[0m \u001b[0;34m=\u001b[0m \u001b[0mmodel\u001b[0m\u001b[0;34m.\u001b[0m\u001b[0mfit\u001b[0m\u001b[0;34m(\u001b[0m\u001b[0mtrain_X\u001b[0m\u001b[0;34m,\u001b[0m \u001b[0mtrain_y_fixed\u001b[0m\u001b[0;34m[\u001b[0m\u001b[0;36m0\u001b[0m\u001b[0;34m]\u001b[0m\u001b[0;34m,\u001b[0m \u001b[0mbatch_size\u001b[0m \u001b[0;34m=\u001b[0m \u001b[0;36m64\u001b[0m\u001b[0;34m,\u001b[0m \u001b[0mepochs\u001b[0m \u001b[0;34m=\u001b[0m \u001b[0;36m50\u001b[0m\u001b[0;34m)\u001b[0m\u001b[0;34m\u001b[0m\u001b[0;34m\u001b[0m\u001b[0m\n\u001b[0m\u001b[1;32m      3\u001b[0m \u001b[0mplt\u001b[0m\u001b[0;34m.\u001b[0m\u001b[0mfigure\u001b[0m\u001b[0;34m(\u001b[0m\u001b[0;34m)\u001b[0m\u001b[0;34m\u001b[0m\u001b[0;34m\u001b[0m\u001b[0m\n\u001b[1;32m      4\u001b[0m \u001b[0mplt\u001b[0m\u001b[0;34m.\u001b[0m\u001b[0mplot\u001b[0m\u001b[0;34m(\u001b[0m\u001b[0mhistory\u001b[0m\u001b[0;34m.\u001b[0m\u001b[0mhistory\u001b[0m\u001b[0;34m[\u001b[0m\u001b[0;34m'loss'\u001b[0m\u001b[0;34m]\u001b[0m\u001b[0;34m)\u001b[0m\u001b[0;34m\u001b[0m\u001b[0;34m\u001b[0m\u001b[0m\n",
            "\u001b[0;32m/usr/local/lib/python3.6/dist-packages/keras/engine/training.py\u001b[0m in \u001b[0;36mfit\u001b[0;34m(self, x, y, batch_size, epochs, verbose, callbacks, validation_split, validation_data, shuffle, class_weight, sample_weight, initial_epoch, steps_per_epoch, validation_steps, **kwargs)\u001b[0m\n\u001b[1;32m   1037\u001b[0m                                         \u001b[0minitial_epoch\u001b[0m\u001b[0;34m=\u001b[0m\u001b[0minitial_epoch\u001b[0m\u001b[0;34m,\u001b[0m\u001b[0;34m\u001b[0m\u001b[0;34m\u001b[0m\u001b[0m\n\u001b[1;32m   1038\u001b[0m                                         \u001b[0msteps_per_epoch\u001b[0m\u001b[0;34m=\u001b[0m\u001b[0msteps_per_epoch\u001b[0m\u001b[0;34m,\u001b[0m\u001b[0;34m\u001b[0m\u001b[0;34m\u001b[0m\u001b[0m\n\u001b[0;32m-> 1039\u001b[0;31m                                         validation_steps=validation_steps)\n\u001b[0m\u001b[1;32m   1040\u001b[0m \u001b[0;34m\u001b[0m\u001b[0m\n\u001b[1;32m   1041\u001b[0m     def evaluate(self, x=None, y=None,\n",
            "\u001b[0;32m/usr/local/lib/python3.6/dist-packages/keras/engine/training_arrays.py\u001b[0m in \u001b[0;36mfit_loop\u001b[0;34m(model, f, ins, out_labels, batch_size, epochs, verbose, callbacks, val_f, val_ins, shuffle, callback_metrics, initial_epoch, steps_per_epoch, validation_steps)\u001b[0m\n\u001b[1;32m    183\u001b[0m                         \u001b[0;31m# Do not slice the training phase flag.\u001b[0m\u001b[0;34m\u001b[0m\u001b[0;34m\u001b[0m\u001b[0;34m\u001b[0m\u001b[0m\n\u001b[1;32m    184\u001b[0m                         ins_batch = slice_arrays(\n\u001b[0;32m--> 185\u001b[0;31m                             ins[:-1], batch_ids) + [ins[-1]]\n\u001b[0m\u001b[1;32m    186\u001b[0m                     \u001b[0;32melse\u001b[0m\u001b[0;34m:\u001b[0m\u001b[0;34m\u001b[0m\u001b[0;34m\u001b[0m\u001b[0m\n\u001b[1;32m    187\u001b[0m                         \u001b[0mins_batch\u001b[0m \u001b[0;34m=\u001b[0m \u001b[0mslice_arrays\u001b[0m\u001b[0;34m(\u001b[0m\u001b[0mins\u001b[0m\u001b[0;34m,\u001b[0m \u001b[0mbatch_ids\u001b[0m\u001b[0;34m)\u001b[0m\u001b[0;34m\u001b[0m\u001b[0;34m\u001b[0m\u001b[0m\n",
            "\u001b[0;32m/usr/local/lib/python3.6/dist-packages/keras/utils/generic_utils.py\u001b[0m in \u001b[0;36mslice_arrays\u001b[0;34m(arrays, start, stop)\u001b[0m\n\u001b[1;32m    524\u001b[0m             \u001b[0;32mif\u001b[0m \u001b[0mhasattr\u001b[0m\u001b[0;34m(\u001b[0m\u001b[0mstart\u001b[0m\u001b[0;34m,\u001b[0m \u001b[0;34m'shape'\u001b[0m\u001b[0;34m)\u001b[0m\u001b[0;34m:\u001b[0m\u001b[0;34m\u001b[0m\u001b[0;34m\u001b[0m\u001b[0m\n\u001b[1;32m    525\u001b[0m                 \u001b[0mstart\u001b[0m \u001b[0;34m=\u001b[0m \u001b[0mstart\u001b[0m\u001b[0;34m.\u001b[0m\u001b[0mtolist\u001b[0m\u001b[0;34m(\u001b[0m\u001b[0;34m)\u001b[0m\u001b[0;34m\u001b[0m\u001b[0;34m\u001b[0m\u001b[0m\n\u001b[0;32m--> 526\u001b[0;31m             \u001b[0;32mreturn\u001b[0m \u001b[0;34m[\u001b[0m\u001b[0;32mNone\u001b[0m \u001b[0;32mif\u001b[0m \u001b[0mx\u001b[0m \u001b[0;32mis\u001b[0m \u001b[0;32mNone\u001b[0m \u001b[0;32melse\u001b[0m \u001b[0mx\u001b[0m\u001b[0;34m[\u001b[0m\u001b[0mstart\u001b[0m\u001b[0;34m]\u001b[0m \u001b[0;32mfor\u001b[0m \u001b[0mx\u001b[0m \u001b[0;32min\u001b[0m \u001b[0marrays\u001b[0m\u001b[0;34m]\u001b[0m\u001b[0;34m\u001b[0m\u001b[0;34m\u001b[0m\u001b[0m\n\u001b[0m\u001b[1;32m    527\u001b[0m         \u001b[0;32melse\u001b[0m\u001b[0;34m:\u001b[0m\u001b[0;34m\u001b[0m\u001b[0;34m\u001b[0m\u001b[0m\n\u001b[1;32m    528\u001b[0m             \u001b[0;32mreturn\u001b[0m \u001b[0;34m[\u001b[0m\u001b[0;32mNone\u001b[0m \u001b[0;32mif\u001b[0m \u001b[0mx\u001b[0m \u001b[0;32mis\u001b[0m \u001b[0;32mNone\u001b[0m \u001b[0;32melse\u001b[0m \u001b[0mx\u001b[0m\u001b[0;34m[\u001b[0m\u001b[0mstart\u001b[0m\u001b[0;34m:\u001b[0m\u001b[0mstop\u001b[0m\u001b[0;34m]\u001b[0m \u001b[0;32mfor\u001b[0m \u001b[0mx\u001b[0m \u001b[0;32min\u001b[0m \u001b[0marrays\u001b[0m\u001b[0;34m]\u001b[0m\u001b[0;34m\u001b[0m\u001b[0;34m\u001b[0m\u001b[0m\n",
            "\u001b[0;32m/usr/local/lib/python3.6/dist-packages/keras/utils/generic_utils.py\u001b[0m in \u001b[0;36m<listcomp>\u001b[0;34m(.0)\u001b[0m\n\u001b[1;32m    524\u001b[0m             \u001b[0;32mif\u001b[0m \u001b[0mhasattr\u001b[0m\u001b[0;34m(\u001b[0m\u001b[0mstart\u001b[0m\u001b[0;34m,\u001b[0m \u001b[0;34m'shape'\u001b[0m\u001b[0;34m)\u001b[0m\u001b[0;34m:\u001b[0m\u001b[0;34m\u001b[0m\u001b[0;34m\u001b[0m\u001b[0m\n\u001b[1;32m    525\u001b[0m                 \u001b[0mstart\u001b[0m \u001b[0;34m=\u001b[0m \u001b[0mstart\u001b[0m\u001b[0;34m.\u001b[0m\u001b[0mtolist\u001b[0m\u001b[0;34m(\u001b[0m\u001b[0;34m)\u001b[0m\u001b[0;34m\u001b[0m\u001b[0;34m\u001b[0m\u001b[0m\n\u001b[0;32m--> 526\u001b[0;31m             \u001b[0;32mreturn\u001b[0m \u001b[0;34m[\u001b[0m\u001b[0;32mNone\u001b[0m \u001b[0;32mif\u001b[0m \u001b[0mx\u001b[0m \u001b[0;32mis\u001b[0m \u001b[0;32mNone\u001b[0m \u001b[0;32melse\u001b[0m \u001b[0mx\u001b[0m\u001b[0;34m[\u001b[0m\u001b[0mstart\u001b[0m\u001b[0;34m]\u001b[0m \u001b[0;32mfor\u001b[0m \u001b[0mx\u001b[0m \u001b[0;32min\u001b[0m \u001b[0marrays\u001b[0m\u001b[0;34m]\u001b[0m\u001b[0;34m\u001b[0m\u001b[0;34m\u001b[0m\u001b[0m\n\u001b[0m\u001b[1;32m    527\u001b[0m         \u001b[0;32melse\u001b[0m\u001b[0;34m:\u001b[0m\u001b[0;34m\u001b[0m\u001b[0;34m\u001b[0m\u001b[0m\n\u001b[1;32m    528\u001b[0m             \u001b[0;32mreturn\u001b[0m \u001b[0;34m[\u001b[0m\u001b[0;32mNone\u001b[0m \u001b[0;32mif\u001b[0m \u001b[0mx\u001b[0m \u001b[0;32mis\u001b[0m \u001b[0;32mNone\u001b[0m \u001b[0;32melse\u001b[0m \u001b[0mx\u001b[0m\u001b[0;34m[\u001b[0m\u001b[0mstart\u001b[0m\u001b[0;34m:\u001b[0m\u001b[0mstop\u001b[0m\u001b[0;34m]\u001b[0m \u001b[0;32mfor\u001b[0m \u001b[0mx\u001b[0m \u001b[0;32min\u001b[0m \u001b[0marrays\u001b[0m\u001b[0;34m]\u001b[0m\u001b[0;34m\u001b[0m\u001b[0;34m\u001b[0m\u001b[0m\n",
            "\u001b[0;31mKeyboardInterrupt\u001b[0m: "
          ]
        }
      ]
    },
    {
      "metadata": {
        "id": "g2hJwSNtpOI4",
        "colab_type": "code",
        "outputId": "b69f25db-05c0-4126-cd5c-5a39e8c833f9",
        "colab": {
          "base_uri": "https://localhost:8080/",
          "height": 51
        }
      },
      "cell_type": "code",
      "source": [
        "model.evaluate(test_X, test_y)"
      ],
      "execution_count": 0,
      "outputs": [
        {
          "output_type": "stream",
          "text": [
            "2003/2003 [==============================] - 1s 731us/step\n"
          ],
          "name": "stdout"
        },
        {
          "output_type": "execute_result",
          "data": {
            "text/plain": [
              "[1.2367386951246562, 0.7593609586216722]"
            ]
          },
          "metadata": {
            "tags": []
          },
          "execution_count": 62
        }
      ]
    },
    {
      "metadata": {
        "id": "zZoj9Y4suYhk",
        "colab_type": "code",
        "colab": {}
      },
      "cell_type": "code",
      "source": [
        "#Saving the model and weights for the end to end solution.\n",
        "\n",
        "#Save weights\n",
        "model.save_weights(\"gdrive/My Drive/Google Colab Data/Skin/skinmodelweights.h5\")\n",
        "model_json = model.to_json()\n",
        "\n",
        "#Save model\n",
        "with open(\"gdrive/My Drive/Google Colab Data/Skin/skinmodel.json\", \"w\") as file:\n",
        "  file.write(model_json)\n",
        "  \n",
        "#Save mean and std\n",
        "np.save(\"gdrive/My Drive/Google Colab Data/Skin/skinmodel_meanstd.npy\", [train_X_mean, train_X_std])\n",
        "  \n"
      ],
      "execution_count": 0,
      "outputs": []
    },
    {
      "metadata": {
        "id": "yA3MLBrAwZy8",
        "colab_type": "code",
        "colab": {}
      },
      "cell_type": "code",
      "source": [
        "def img_processor(imgpath, meanstdpath, modelpath, weightspath):\n",
        "  \"\"\"\n",
        "  inputs: \n",
        "        imgpath - path to image of potential skin cancer mole;\n",
        "        meanstdpath - path to training mean & standard deviation;\n",
        "        modelpath - path to Keras model;\n",
        "        weightspath - path to weights for Keras model\n",
        "  \n",
        "  output: pred_dic - a prediction dictionary with diseases as keys and probabilities as values\n",
        "  \"\"\"\n",
        "  \n",
        "  from keras.models import model_from_json\n",
        "  # load model\n",
        "  with open(modelpath, \"r\") as file:\n",
        "    loaded_json = file.read()\n",
        "  skinmodel = model_from_json(loaded_json)\n",
        "\n",
        "  # Load weights from file\n",
        "  skinmodel.load_weights(weightspath)\n",
        "  \n",
        "  # Load mean and std\n",
        "  train_X_mean, train_X_std = np.load(meanstdpath)\n",
        "  \n",
        "  # Loading, resizing image as np.array\n",
        "  imagearray = np.asarray(Image.open(imgpath).resize((100,75)))\n",
        "  imagearray = ((imagearray-train_X_mean)/train_X_std)\n",
        "  ny, nx, nc = imagearray.shape\n",
        "  imagearray = imagearray.reshape(1 ,ny, nx, nc)\n",
        "                \n",
        "  pred_vec = skinmodel.predict(imagearray).flatten()\n",
        "  \n",
        "  pred_dict = {'Actinic keratoses' : pred_vec[0], 'Basal cell carcinoma' : pred_vec[1],\n",
        "                   'Benign keratosis-like lesions' : pred_vec[2], 'Dermatofibroma' : pred_vec[3],\n",
        "                   'Melanocytic nevi' : pred_vec[4], 'Melanoma' : pred_vec[5], 'Vascular lesions' : pred_vec[6]\n",
        "              }\n",
        "                                      \n",
        "  \n",
        "  return pred_dict\n",
        "  "
      ],
      "execution_count": 0,
      "outputs": []
    },
    {
      "metadata": {
        "id": "6pA17WOeBcvF",
        "colab_type": "code",
        "outputId": "6729ffa6-e86b-439e-957b-65f174cc6d9e",
        "colab": {
          "base_uri": "https://localhost:8080/",
          "height": 54
        }
      },
      "cell_type": "code",
      "source": [
        "drive_path = 'gdrive/My Drive/Google Colab Data/Skin/'\n",
        "res = img_processor(drive_path + \"HAM10000_images_part_1/ISIC_0024346.jpg\", drive_path + \"skinmodel_meanstd.npy\",\\\n",
        "              drive_path + \"skinmodel.json\", drive_path + \"skinmodelweights.h5\")\n",
        "print(res)"
      ],
      "execution_count": 0,
      "outputs": [
        {
          "output_type": "stream",
          "text": [
            "{'Actinic keratoses': 1.468158e-26, 'Basal cell carcinoma': 3.5272613e-21, 'Benign keratosis-like lesions': 5.293164e-15, 'Dermatofibroma': 2.189494e-26, 'Melanocytic nevi': 1.0, 'Melanoma': 4.6992812e-14, 'Vascular lesions': 2.305058e-30}\n"
          ],
          "name": "stdout"
        }
      ]
    },
    {
      "metadata": {
        "id": "pewA2UghG5ej",
        "colab_type": "code",
        "colab": {}
      },
      "cell_type": "code",
      "source": [
        ""
      ],
      "execution_count": 0,
      "outputs": []
    }
  ]
}